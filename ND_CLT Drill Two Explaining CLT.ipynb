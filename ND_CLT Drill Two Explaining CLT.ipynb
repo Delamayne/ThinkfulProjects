{
 "cells": [
  {
   "cell_type": "code",
   "execution_count": 2,
   "metadata": {},
   "outputs": [],
   "source": [
    "import numpy as np\n",
    "import pandas as pd\n",
    "import scipy\n",
    "import matplotlib.pyplot as plt\n",
    "%matplotlib inline"
   ]
  },
  {
   "cell_type": "code",
   "execution_count": 6,
   "metadata": {},
   "outputs": [],
   "source": [
    "n=100\n",
    "pop1_p = 0.2\n",
    "pop1 = np.random.binomial(10,.2,10000)\n",
    "pop2 = np.random.binomial(10,.5,10000)"
   ]
  },
  {
   "cell_type": "code",
   "execution_count": 8,
   "metadata": {
    "scrolled": true
   },
   "outputs": [
    {
     "name": "stdout",
     "output_type": "stream",
     "text": [
      "1.78 1.1711532777565878 4.87 1.622682963489788\n"
     ]
    }
   ],
   "source": [
    "sample1 = np.random.choice(pop1, 100, replace=True)\n",
    "sample2 = np.random.choice(pop2, 100, replace=True)\n",
    "print(sample1.mean(), sample1.std(), sample2.mean(), sample2.std())\n",
    "#samplesize=100  pop1_p = 0.2\n"
   ]
  },
  {
   "cell_type": "code",
   "execution_count": 35,
   "metadata": {},
   "outputs": [
    {
     "name": "stdout",
     "output_type": "stream",
     "text": [
      "2.043 1.272458643728746 5.034 1.6226040798666814\n"
     ]
    }
   ],
   "source": [
    "#change ss to 1000,expect means to be closer to 2 and 5\n",
    "n=1000\n",
    "pop1_p = 0.2\n",
    "pop1 = np.random.binomial(10,pop1_p,10000)\n",
    "pop2 = np.random.binomial(10,.5,10000)\n",
    "sample1 = np.random.choice(pop1, n, replace=True)\n",
    "sample2 = np.random.choice(pop2, n, replace=True)\n",
    "print(sample1.mean(), sample1.std(), sample2.mean(), sample2.std())"
   ]
  },
  {
   "cell_type": "code",
   "execution_count": 48,
   "metadata": {},
   "outputs": [
    {
     "name": "stdout",
     "output_type": "stream",
     "text": [
      "1.75 1.1779218989389746 5.1 1.4106735979665883\n"
     ]
    }
   ],
   "source": [
    "#change ss to 20, expect means to typically be further from 2 and 5\n",
    "n=20\n",
    "pop1_p = 0.2\n",
    "pop1 = np.random.binomial(10,pop1_p,10000)\n",
    "pop2 = np.random.binomial(10,.5,10000)\n",
    "sample1 = np.random.choice(pop1, n, replace=True)\n",
    "sample2 = np.random.choice(pop2, n, replace=True)\n",
    "print(sample1.mean(), sample1.std(), sample2.mean(), sample2.std())\n",
    "\n",
    "#SD also typically slightly higher with smaller sample, more negligible at 100 vs 1000"
   ]
  },
  {
   "cell_type": "code",
   "execution_count": 59,
   "metadata": {},
   "outputs": [
    {
     "name": "stdout",
     "output_type": "stream",
     "text": [
      "3.8 1.3266499161421599 4.5 1.284523257866513\n",
      "Ttest_indResult(statistic=1.6523332831461022, pvalue=0.10671567154073662)\n"
     ]
    }
   ],
   "source": [
    "#changep to 0.3, calc t statistic and p value\n",
    "n=20\n",
    "pop1_p = 0.4\n",
    "pop1 = np.random.binomial(10,pop1_p,10000)\n",
    "pop2 = np.random.binomial(10,.5,10000)\n",
    "sample1 = np.random.choice(pop1, n, replace=True)\n",
    "sample2 = np.random.choice(pop2, n, replace=True)\n",
    "print(sample1.mean(), sample1.std(), sample2.mean(), sample2.std())\n",
    "from scipy.stats import ttest_ind\n",
    "print(ttest_ind(sample2, sample1, equal_var=False))"
   ]
  },
  {
   "cell_type": "code",
   "execution_count": 60,
   "metadata": {},
   "outputs": [],
   "source": [
    "#with n=20 and pop1_p = 0.3\n",
    "#t statistic is 3 in this result, p (.0036, or .36%) suggests less than 1% chance samples are drawing from same population\n",
    "\n",
    "#with n=20 and pop1_p = 0.4\n",
    "#t statistic is 1.7 in this result, p value is .11, much less certain these are drawing from different populations.\n",
    "#Why: With a small sample (20) and much more similar populations (.4 vs. .5), unsurprisngly less certainty in population difference based on small sample\n",
    "\n",
    "\n",
    "\n"
   ]
  },
  {
   "cell_type": "code",
   "execution_count": 67,
   "metadata": {},
   "outputs": [
    {
     "name": "stdout",
     "output_type": "stream",
     "text": [
      "0.15390809291062066 0.039203479019645895 0.0876964623656505 0.02177908627477105\n",
      "Ttest_indResult(statistic=-4.429181134103873, pvalue=0.0005650200681436049)\n"
     ]
    }
   ],
   "source": [
    "#change distribution type\n",
    "n=10\n",
    "#pop1_p = 0.4\n",
    "pop1 = np.random.beta(15,85,10000)\n",
    "pop2 = np.random.beta(10,90,10000)\n",
    "sample1 = np.random.choice(pop1, n, replace=True)\n",
    "sample2 = np.random.choice(pop2, n, replace=True)\n",
    "print(sample1.mean(), sample1.std(), sample2.mean(), sample2.std())\n",
    "from scipy.stats import ttest_ind\n",
    "print(ttest_ind(sample2, sample1, equal_var=False))"
   ]
  },
  {
   "cell_type": "code",
   "execution_count": null,
   "metadata": {},
   "outputs": [],
   "source": []
  }
 ],
 "metadata": {
  "kernelspec": {
   "display_name": "Python 3",
   "language": "python",
   "name": "python3"
  },
  "language_info": {
   "codemirror_mode": {
    "name": "ipython",
    "version": 3
   },
   "file_extension": ".py",
   "mimetype": "text/x-python",
   "name": "python",
   "nbconvert_exporter": "python",
   "pygments_lexer": "ipython3",
   "version": "3.7.1"
  }
 },
 "nbformat": 4,
 "nbformat_minor": 2
}
