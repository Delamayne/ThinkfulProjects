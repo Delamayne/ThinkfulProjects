{
 "cells": [
  {
   "cell_type": "markdown",
   "metadata": {},
   "source": [
    "Answer to question at bottom."
   ]
  },
  {
   "cell_type": "code",
   "execution_count": 2,
   "metadata": {},
   "outputs": [],
   "source": [
    "import numpy as np\n",
    "import pandas as pd\n",
    "import matplotlib.pyplot as plt\n",
    "import scipy\n",
    "%matplotlib inline"
   ]
  },
  {
   "cell_type": "code",
   "execution_count": 3,
   "metadata": {},
   "outputs": [],
   "source": [
    "music = pd.DataFrame()"
   ]
  },
  {
   "cell_type": "code",
   "execution_count": 4,
   "metadata": {},
   "outputs": [],
   "source": [
    "music['duration'] = [184, 134, 243, 186, 122, 197, 294, 382, 102, 264, \n",
    "                     205, 110, 307, 110, 397, 153, 190, 192, 210, 403,\n",
    "                     164, 198, 204, 253, 234, 190, 182, 401, 376, 102]\n",
    "music['loudness'] = [18, 34, 43, 36, 22, 9, 29, 22, 10, 24, \n",
    "                     20, 10, 17, 51, 7, 13, 19, 12, 21, 22,\n",
    "                     16, 18, 4, 23, 34, 19, 14, 11, 37, 42]\n",
    "music['jazz'] = [ 1, 0, 0, 0, 1, 1, 0, 1, 1, 0,\n",
    "                  0, 1, 1, 0, 1, 1, 0, 1, 1, 1,\n",
    "                  1, 1, 1, 1, 0, 0, 1, 1, 0, 0]\n"
   ]
  },
  {
   "cell_type": "code",
   "execution_count": 5,
   "metadata": {},
   "outputs": [
    {
     "data": {
      "image/png": "[encoded data removed]",
      "text/plain": [
       "<Figure size 432x288 with 1 Axes>"
      ]
     },
     "metadata": {
      "needs_background": "light"
     },
     "output_type": "display_data"
    }
   ],
   "source": [
    "plt.scatter(\n",
    "    music[music.jazz == 1].duration,\n",
    "    music[music.jazz == 1].loudness,\n",
    "    color='purple')\n",
    "plt.scatter(\n",
    "    music[music.jazz == 0].duration,\n",
    "    music[music.jazz == 0].loudness,\n",
    "    color='orange')\n",
    "\n",
    "plt.legend(['Jazz', 'Rock'])\n",
    "plt.title('Jazz and Rock Chars')\n",
    "plt.xlabel('Duration')\n",
    "plt.ylabel('loudness')\n",
    "plt.show()"
   ]
  },
  {
   "cell_type": "code",
   "execution_count": 6,
   "metadata": {},
   "outputs": [
    {
     "data": {
      "text/plain": [
       "KNeighborsClassifier(algorithm='auto', leaf_size=30, metric='minkowski',\n",
       "           metric_params=None, n_jobs=None, n_neighbors=1, p=2,\n",
       "           weights='uniform')"
      ]
     },
     "execution_count": 6,
     "metadata": {},
     "output_type": "execute_result"
    }
   ],
   "source": [
    "from sklearn.neighbors import KNeighborsClassifier\n",
    "neighbors = KNeighborsClassifier(n_neighbors=1)\n",
    "X = music[['loudness', 'duration']]\n",
    "Y = music.jazz\n",
    "neighbors.fit(X,Y)"
   ]
  },
  {
   "cell_type": "code",
   "execution_count": 7,
   "metadata": {},
   "outputs": [
    {
     "data": {
      "text/plain": [
       "array([1], dtype=int64)"
      ]
     },
     "execution_count": 7,
     "metadata": {},
     "output_type": "execute_result"
    }
   ],
   "source": [
    "neighbors.predict([[20, 300]])"
   ]
  },
  {
   "cell_type": "code",
   "execution_count": 8,
   "metadata": {},
   "outputs": [
    {
     "name": "stdout",
     "output_type": "stream",
     "text": [
      "[1]\n",
      "[[0.19995059 0.80004941]]\n"
     ]
    }
   ],
   "source": [
    "from scipy import stats\n",
    "neighbors = KNeighborsClassifier(n_neighbors=5, weights = 'distance')\n",
    "x = pd.DataFrame({\n",
    "    'loudness': stats.zscore(music.loudness),\n",
    "    'duration': stats.zscore(music.duration)\n",
    "})\n",
    "\n",
    "y=music.jazz\n",
    "neighbors.fit(x,y)\n",
    "print(neighbors.predict([[20,300]]))\n",
    "print(neighbors.predict_proba([[20,300]]))"
   ]
  },
  {
   "cell_type": "code",
   "execution_count": 9,
   "metadata": {},
   "outputs": [],
   "source": [
    "x = np.array(x)\n",
    "y = np.array(y)"
   ]
  },
  {
   "cell_type": "code",
   "execution_count": 10,
   "metadata": {},
   "outputs": [
    {
     "data": {
      "text/plain": [
       "array([[-0.34062759, -0.42733993],\n",
       "       [ 1.05681894, -0.9756803 ],\n",
       "       [ 1.84288262,  0.21970171],\n",
       "       [ 1.23149976, -0.40540632],\n",
       "       [ 0.00873404, -1.10728199],\n",
       "       [-1.12669127, -0.28477143],\n",
       "       [ 0.6201169 ,  0.77900889],\n",
       "       [ 0.00873404,  1.74408795],\n",
       "       [-1.03935086, -1.32661814],\n",
       "       [ 0.18341486,  0.45000467],\n",
       "       [-0.16594678, -0.19703697],\n",
       "       [-1.03935086, -1.23888368],\n",
       "       [-0.427968  ,  0.92157739],\n",
       "       [ 2.54160588, -1.23888368],\n",
       "       [-1.30137208,  1.90859006],\n",
       "       [-0.77732963, -0.76731096],\n",
       "       [-0.25328718, -0.36153909],\n",
       "       [-0.86467004, -0.33960547],\n",
       "       [-0.07860637, -0.14220294],\n",
       "       [ 0.00873404,  1.9743909 ],\n",
       "       [-0.51530841, -0.64667608],\n",
       "       [-0.34062759, -0.27380463],\n",
       "       [-1.56339331, -0.20800378],\n",
       "       [ 0.09607445,  0.32936978],\n",
       "       [ 1.05681894,  0.12100044],\n",
       "       [-0.25328718, -0.36153909],\n",
       "       [-0.68998923, -0.44927355],\n",
       "       [-0.95201045,  1.95245729],\n",
       "       [ 1.31884017,  1.6782871 ],\n",
       "       [ 1.75554221, -1.32661814]])"
      ]
     },
     "execution_count": 10,
     "metadata": {},
     "output_type": "execute_result"
    }
   ],
   "source": [
    "x"
   ]
  },
  {
   "cell_type": "code",
   "execution_count": 16,
   "metadata": {},
   "outputs": [],
   "source": [
    "h = .1"
   ]
  },
  {
   "cell_type": "code",
   "execution_count": 17,
   "metadata": {},
   "outputs": [],
   "source": [
    "x_min = x[:, 0].min() - .5\n",
    "x_max = x[:, 0].max() + .5\n",
    "y_min = x[:,1].min() - .5\n",
    "y_max  =x[:,1].max() + .5\n",
    "xx, yy = np.meshgrid(\n",
    "    np.arange(x_min, x_max, h),\n",
    "    np.arange(y_min, y_max, h)\n",
    ")"
   ]
  },
  {
   "cell_type": "code",
   "execution_count": 18,
   "metadata": {},
   "outputs": [],
   "source": [
    "Z = neighbors.predict(np.c_[xx.ravel(), yy.ravel()])"
   ]
  },
  {
   "cell_type": "code",
   "execution_count": 19,
   "metadata": {},
   "outputs": [
    {
     "data": {
      "text/plain": [
       "(44, 52)"
      ]
     },
     "execution_count": 19,
     "metadata": {},
     "output_type": "execute_result"
    }
   ],
   "source": [
    "Z = Z.reshape(xx.shape)\n",
    "xx.shape"
   ]
  },
  {
   "cell_type": "code",
   "execution_count": 20,
   "metadata": {},
   "outputs": [
    {
     "data": {
      "image/png": "[encoded data removed]",
      "text/plain": [
       "<Figure size 648x432 with 1 Axes>"
      ]
     },
     "metadata": {
      "needs_background": "light"
     },
     "output_type": "display_data"
    }
   ],
   "source": [
    "plt.figure(1, figsize=(9,6))\n",
    "plt.set_cmap(plt.cm.Paired)\n",
    "plt.pcolormesh(xx,yy,Z)\n",
    "plt.scatter(x[:, 0], x[:, 1], c=Y)\n",
    "plt.xlabel('Loudness')\n",
    "plt.ylabel('Duration')\n",
    "\n",
    "plt.xlim(xx.min(), xx.max())\n",
    "plt.ylim(yy.min(), yy.max())\n",
    "\n",
    "plt.show()"
   ]
  },
  {
   "cell_type": "markdown",
   "metadata": {},
   "source": [
    "KNN to predict on-time payment.\n",
    "\n",
    "Use binary dependent variable to denote on-time payment.\n",
    "\n",
    "Normalize independent vars, to see how much higher (or lower) spending is than typical\n",
    "\n",
    "Possibly exclude some of the independent vars if very small relationship with outcome (run f-test)"
   ]
  },
  {
   "cell_type": "code",
   "execution_count": null,
   "metadata": {},
   "outputs": [],
   "source": []
  }
 ],
 "metadata": {
  "kernelspec": {
   "display_name": "Python 3",
   "language": "python",
   "name": "python3"
  },
  "language_info": {
   "codemirror_mode": {
    "name": "ipython",
    "version": 3
   },
   "file_extension": ".py",
   "mimetype": "text/x-python",
   "name": "python",
   "nbconvert_exporter": "python",
   "pygments_lexer": "ipython3",
   "version": "3.7.3"
  }
 },
 "nbformat": 4,
 "nbformat_minor": 2
}
